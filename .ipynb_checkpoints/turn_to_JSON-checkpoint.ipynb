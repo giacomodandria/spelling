{
 "cells": [
  {
   "cell_type": "code",
   "execution_count": null,
   "id": "71804d7a",
   "metadata": {},
   "outputs": [],
   "source": [
    "import json\n",
    "\n",
    "def txt_to_json(input_file, output_file):\n",
    "    with open(input_file, 'r') as txt_file:\n",
    "        words = [line.strip() for line in txt_file]\n",
    "\n",
    "    data = {\"words\": words}\n",
    "\n",
    "    with open(output_file, 'w') as json_file:\n",
    "        json.dump(data, json_file, indent=2)\n",
    "\n",
    "# Example usage\n",
    "input_txt_file = \"words/difficult-words.txt\"  # Replace with your input file name\n",
    "output_json_file = \"words/difficult-words.json\"  # Replace with your desired output file name\n",
    "\n",
    "txt_to_json(input_txt_file, output_json_file)"
   ]
  }
 ],
 "metadata": {
  "kernelspec": {
   "display_name": "Python 3 (ipykernel)",
   "language": "python",
   "name": "python3"
  },
  "language_info": {
   "codemirror_mode": {
    "name": "ipython",
    "version": 3
   },
   "file_extension": ".py",
   "mimetype": "text/x-python",
   "name": "python",
   "nbconvert_exporter": "python",
   "pygments_lexer": "ipython3",
   "version": "3.11.5"
  }
 },
 "nbformat": 4,
 "nbformat_minor": 5
}
